{
 "cells": [
  {
   "cell_type": "markdown",
   "id": "7e75d4da-a403-455b-b5dd-be040a6f9093",
   "metadata": {
    "jp-MarkdownHeadingCollapsed": true,
    "tags": []
   },
   "source": [
    "## Guitar"
   ]
  },
  {
   "cell_type": "code",
   "execution_count": 2,
   "id": "d7fe7439-9970-4f8c-956f-04708bce9d4f",
   "metadata": {
    "execution": {
     "iopub.execute_input": "2024-07-30T15:09:43.563939Z",
     "iopub.status.busy": "2024-07-30T15:09:43.522153Z",
     "iopub.status.idle": "2024-07-30T15:09:43.576607Z",
     "shell.execute_reply": "2024-07-30T15:09:43.575136Z"
    },
    "tags": [],
    "vscode": {
     "languageId": "r"
    }
   },
   "outputs": [],
   "source": [
    "# load package\n",
    "options(stringsAsFactors = F)\n",
    "library(Guitar)"
   ]
  },
  {
   "cell_type": "code",
   "execution_count": null,
   "id": "9fe15cbc-fdba-44ef-9a68-b01ddc4f593a",
   "metadata": {
    "execution": {
     "iopub.execute_input": "2024-07-30T15:09:52.741727Z",
     "iopub.status.busy": "2024-07-30T15:09:52.737773Z",
     "iopub.status.idle": "2024-07-30T15:09:52.777755Z",
     "shell.execute_reply": "2024-07-30T15:09:52.776165Z"
    },
    "tags": [],
    "vscode": {
     "languageId": "r"
    }
   },
   "outputs": [],
   "source": [
    "# import different data formats into a named list object.\n",
    "# These genomic features are using mm10 genome assembly\n",
    "stBedFiles <- list('...')\n",
    "SampleName <- c('...')"
   ]
  },
  {
   "cell_type": "code",
   "execution_count": null,
   "id": "79ef5780-4b6d-4249-b998-cc3ceaa2237a",
   "metadata": {
    "execution": {
     "iopub.execute_input": "2024-07-30T15:10:01.709648Z",
     "iopub.status.busy": "2024-07-30T15:10:01.705733Z",
     "iopub.status.idle": "2024-07-30T15:10:50.049388Z",
     "shell.execute_reply": "2024-07-30T15:10:50.048157Z"
    },
    "tags": [],
    "vscode": {
     "languageId": "r"
    }
   },
   "outputs": [],
   "source": [
    "# Build Guitar Coordinates\n",
    "txdb <- makeTxDbFromGFF(file      = \"./Genome/Mouse/GRCm38/release-102/Mus_musculus.GRCm38.102.gtf\", \n",
    "                        format    = \"gtf\", \n",
    "                        dataSource= \"Ensembl\", \n",
    "                        organism  = \"Mus musculus\")"
   ]
  },
  {
   "cell_type": "code",
   "execution_count": null,
   "id": "7ec2e8fd-48d5-4bfa-925b-2aaa4aa55c93",
   "metadata": {
    "tags": [],
    "vscode": {
     "languageId": "r"
    }
   },
   "outputs": [],
   "source": [
    "###### Guitar Plot\n",
    "for(i in ...){\n",
    "p <- GuitarPlot(txTxdb     = txdb,\n",
    "                stBedFiles = stBedFiles[i],\n",
    "                headOrtail = TRUE,\n",
    "                enableCI   = FALSE,\n",
    "                mapFilterTranscript = TRUE,\n",
    "                pltTxType   = c(\"mrna\"),\n",
    "                stGroupName = SampleName[i])+ \n",
    "        ggtitle(label = paste0(\"Distribution on mRNA - \",SampleName[i]) + \n",
    "                theme(plot.title = element_text(hjust = 0.5)) + \n",
    "                theme_bw())\n",
    "    }"
   ]
  },
  {
   "cell_type": "markdown",
   "id": "2328e7de-0a0d-441b-8a2e-c67ff63087fe",
   "metadata": {
    "jp-MarkdownHeadingCollapsed": true,
    "tags": []
   },
   "source": [
    "## ChIPseeker"
   ]
  },
  {
   "cell_type": "code",
   "execution_count": null,
   "id": "534bf691-8c7c-4917-ace4-906c6112d2b9",
   "metadata": {
    "tags": [],
    "vscode": {
     "languageId": "r"
    }
   },
   "outputs": [],
   "source": [
    "library(ChIPseeker)\n",
    "library(clusterProfiler)\n",
    "library(GenomicFeatures)\n",
    "library(ChIPpeakAnno)"
   ]
  },
  {
   "cell_type": "code",
   "execution_count": null,
   "id": "e5a5b214-df62-4b8b-91d5-fb81bd88817c",
   "metadata": {
    "execution": {
     "iopub.execute_input": "2024-07-28T03:28:04.916517Z",
     "iopub.status.busy": "2024-07-28T03:28:04.915178Z",
     "iopub.status.idle": "2024-07-28T03:28:38.266808Z",
     "shell.execute_reply": "2024-07-28T03:28:38.265686Z"
    },
    "tags": [],
    "vscode": {
     "languageId": "r"
    }
   },
   "outputs": [],
   "source": [
    "### peak annotation\n",
    "for(i in ...){\n",
    "peak_file <- readPeakFile(stBedFiles[[i]])\n",
    "# region select：\"Promoter\", \"5UTR\", \"3UTR\", \"Exon\", \"Intron\", \"Downstream\", \"Intergenic\"\n",
    "peak_anno <- annotatePeak(peak_file,\n",
    "                          tssRegion = c(-3000, 3000),\n",
    "                          TxDb      = txdb,\n",
    "                          assignGenomicAnnotation   = TRUE,\n",
    "                          genomicAnnotationPriority = c(\"5UTR\", \"3UTR\", \"Exon\",\"Intron\",\"Intergenic\"),\n",
    "                          addFlankGeneInfo = TRUE,\n",
    "                          flankDistance    = 5000)\n",
    "plotAnnoPie(peak_anno)\n",
    "}"
   ]
  },
  {
   "cell_type": "code",
   "execution_count": null,
   "id": "02143199-61f1-49d8-94a7-719daea613cc",
   "metadata": {
    "collapsed": true,
    "execution": {
     "iopub.execute_input": "2024-07-28T03:28:38.269565Z",
     "iopub.status.busy": "2024-07-28T03:28:38.268580Z",
     "iopub.status.idle": "2024-07-28T03:28:52.888243Z",
     "shell.execute_reply": "2024-07-28T03:28:52.885794Z"
    },
    "jupyter": {
     "outputs_hidden": true
    },
    "tags": [],
    "vscode": {
     "languageId": "r"
    }
   },
   "outputs": [],
   "source": [
    "for(i in ...){\n",
    "# Anno\n",
    "data     <- readPeakFile(stBedFiles[[i]])\n",
    "peakAnno <- annotatePeak(data, tssRegion=c(-3000, 3000),TxDb=txdb,columns = c(\"symbol\",\"ENTREZID\", \"ENSEMBL\", \"SYMBOL\", \"GENENAME\"),overlap=\"all\")\n",
    "write.table(peakAnno,paste0(SampleName[i],\"_Peak.Annotation.txt\"),sep=\"\\t\")\n",
    "}\n"
   ]
  },
  {
   "cell_type": "code",
   "execution_count": null,
   "id": "0bb7ae9d-0e7a-4755-a1d3-1063ee54464f",
   "metadata": {
    "collapsed": true,
    "execution": {
     "iopub.execute_input": "2024-07-28T03:28:52.893020Z",
     "iopub.status.busy": "2024-07-28T03:28:52.891544Z",
     "iopub.status.idle": "2024-07-28T03:29:07.399826Z",
     "shell.execute_reply": "2024-07-28T03:29:07.398592Z"
    },
    "jupyter": {
     "outputs_hidden": true
    },
    "tags": [],
    "vscode": {
     "languageId": "r"
    }
   },
   "outputs": [],
   "source": [
    "for(i in ...){\n",
    "# Anno\n",
    "data     <- readPeakFile(stBedFiles[[i]])\n",
    "peakAnno <- annotatePeak(data, tssRegion=c(-3000, 3000),TxDb=txdb,columns = c(\"symbol\",\"ENTREZID\", \"ENSEMBL\", \"SYMBOL\", \"GENENAME\"),overlap=\"TSS\")\n",
    "write.table(peakAnno,paste0(SampleName[i],\"_Peak.Annotation_OverlapTSS.txt\"),sep=\"\\t\")\n",
    "}\n"
   ]
  },
  {
   "cell_type": "code",
   "execution_count": null,
   "id": "0929c4aa-7219-452b-adaa-86ca4574de1a",
   "metadata": {
    "collapsed": true,
    "execution": {
     "iopub.execute_input": "2024-07-28T03:32:58.101677Z",
     "iopub.status.busy": "2024-07-28T03:32:58.100700Z",
     "iopub.status.idle": "2024-07-28T03:33:12.147685Z",
     "shell.execute_reply": "2024-07-28T03:33:12.146516Z"
    },
    "jupyter": {
     "outputs_hidden": true
    },
    "tags": [],
    "vscode": {
     "languageId": "r"
    }
   },
   "outputs": [],
   "source": [
    "for(i in ...){\n",
    "# Type\n",
    "data     <- readPeakFile(stBedFiles[[i]])\n",
    "peakAnno <- annotatePeak(data, tssRegion=c(-3000, 3000),TxDb=txdb,columns = c(\"symbol\",\"ENTREZID\", \"ENSEMBL\", \"SYMBOL\", \"GENENAME\"),overlap=\"all\")\n",
    "\n",
    "plotAnnoBar(peakAnno)\n",
    "vennpie(peakAnno)\n",
    "}"
   ]
  },
  {
   "cell_type": "markdown",
   "id": "68ca7103-5d3c-441a-b87c-95f6f62fa9bf",
   "metadata": {
    "execution": {
     "iopub.execute_input": "2024-07-28T07:31:22.116226Z",
     "iopub.status.busy": "2024-07-28T07:31:22.112962Z",
     "iopub.status.idle": "2024-07-28T07:31:22.147538Z",
     "shell.execute_reply": "2024-07-28T07:31:22.146169Z"
    },
    "tags": []
   },
   "source": [
    "# Overlap、Distribution、Density"
   ]
  },
  {
   "cell_type": "code",
   "execution_count": 8,
   "id": "b94c486b-459f-418e-bd14-0ffe7610c538",
   "metadata": {
    "execution": {
     "iopub.execute_input": "2024-07-30T15:11:29.340449Z",
     "iopub.status.busy": "2024-07-30T15:11:29.336430Z",
     "iopub.status.idle": "2024-07-30T15:11:29.366500Z",
     "shell.execute_reply": "2024-07-30T15:11:29.365084Z"
    },
    "tags": [],
    "vscode": {
     "languageId": "r"
    }
   },
   "outputs": [],
   "source": [
    "options(stringsAsFactors = F)\n",
    "library(ChIPseeker)\n",
    "library(clusterProfiler)\n",
    "library(GenomicFeatures)\n",
    "library(ChIPpeakAnno)"
   ]
  },
  {
   "cell_type": "code",
   "execution_count": 39,
   "id": "9acba6cf-c0f9-4d2b-b405-29cdbf081e59",
   "metadata": {
    "execution": {
     "iopub.execute_input": "2024-07-30T15:36:59.468603Z",
     "iopub.status.busy": "2024-07-30T15:36:59.465464Z",
     "iopub.status.idle": "2024-07-30T15:37:04.154004Z",
     "shell.execute_reply": "2024-07-30T15:37:04.152790Z"
    },
    "tags": [],
    "vscode": {
     "languageId": "r"
    }
   },
   "outputs": [],
   "source": [
    "gr1 <- toGRanges(\"./TetCon_1_summits.bed\", format=\"BED\") \n",
    "gr2 <- toGRanges('...', format=\"BED\")\n",
    "gr3 <- toGRanges('...', format=\"BED\")\n",
    "\n",
    "ol <- findOverlapsOfPeaks(gr1, gr2, gr3, maxgap=50, connectedPeaks = \"keepAll\")\n",
    "# connectedPeaks = c(\"keepAll\", \"min\", \"merge\")"
   ]
  },
  {
   "cell_type": "code",
   "execution_count": null,
   "id": "31f91126-189c-419c-b391-d5f0b4591cbb",
   "metadata": {
    "execution": {
     "iopub.execute_input": "2024-07-30T15:37:04.156727Z",
     "iopub.status.busy": "2024-07-30T15:37:04.155796Z",
     "iopub.status.idle": "2024-07-30T15:37:04.332233Z",
     "shell.execute_reply": "2024-07-30T15:37:04.331148Z"
    },
    "tags": [],
    "vscode": {
     "languageId": "r"
    }
   },
   "outputs": [],
   "source": [
    "makeVennDiagram(ol,\n",
    "                      NameOfPeaks=c('Tet1Con_1','Tet1Con_2','Tet1Con_3'),\n",
    "                   fill=c('#FFFFCC', '#CC9933', '#336666'), \n",
    "                    col=c(\"#000000\", \"#000000\", \"#000000\"), \n",
    "                cat.col=c(\"#0072B2\", \"#0072B2\", \"#0072B2\"))"
   ]
  },
  {
   "cell_type": "code",
   "execution_count": null,
   "id": "c80351a7-a9d1-4b17-9905-13f6d23aabd3",
   "metadata": {
    "execution": {
     "iopub.execute_input": "2024-07-30T15:37:07.384226Z",
     "iopub.status.busy": "2024-07-30T15:37:07.381165Z",
     "iopub.status.idle": "2024-07-30T15:37:10.022340Z",
     "shell.execute_reply": "2024-07-30T15:37:10.021171Z"
    },
    "tags": [],
    "vscode": {
     "languageId": "r"
    }
   },
   "outputs": [],
   "source": [
    "### peak annotation\n",
    "peak_file <- c(ol$peaklist$`gr1///gr2///gr3`,ol$peaklist$`gr1///gr2`,ol$peaklist$`gr1///gr3`,ol$peaklist$`gr2///gr3`)\n",
    "# region select：\"Promoter\", \"5UTR\", \"3UTR\", \"Exon\", \"Intron\", \"Downstream\", \"Intergenic\"\n",
    "peak_anno <- annotatePeak(peak_file,\n",
    "                          tssRegion = c(-3000, 3000),\n",
    "                          TxDb      = txdb,\n",
    "                          assignGenomicAnnotation   = TRUE,\n",
    "                          genomicAnnotationPriority = c(\"5UTR\", \"3UTR\", \"Exon\", \"Intron\", \"Intergenic\"),\n",
    "                          addFlankGeneInfo = TRUE,\n",
    "                          flankDistance    = 5000)\n",
    "plotAnnoPie(peak_anno)"
   ]
  },
  {
   "cell_type": "code",
   "execution_count": null,
   "id": "b6bd9064-5b2f-461d-9e3f-37ab7923d98e",
   "metadata": {
    "execution": {
     "iopub.execute_input": "2024-07-30T15:27:08.334795Z",
     "iopub.status.busy": "2024-07-30T15:27:08.333850Z",
     "iopub.status.idle": "2024-07-30T15:31:26.108293Z",
     "shell.execute_reply": "2024-07-30T15:31:26.107048Z"
    },
    "tags": [],
    "vscode": {
     "languageId": "r"
    }
   },
   "outputs": [],
   "source": [
    "stBedFiles <- list(\"OverlapForDensity_KO.bed\",\"OverlapForDensity_Con.bed\")\n",
    "p7 <- GuitarPlot(     txTxdb     = txdb,\n",
    "                stBedFiles = stBedFiles,\n",
    "                headOrtail = TRUE,\n",
    "                enableCI   = FALSE,\n",
    "                mapFilterTranscript = TRUE,\n",
    "                pltTxType   = c(\"mrna\"),\n",
    "                stGroupName = c(\"KO\",\"Con\"))+ \n",
    "        ggtitle(label = paste0(\"Distribution on mRNA\") + \n",
    "                theme(plot.title = element_text(hjust = 0.5)) + \n",
    "                theme_bw())"
   ]
  }
 ],
 "metadata": {
  "kernelspec": {
   "display_name": "ir (scRNA)",
   "language": "R",
   "name": "conda-env-scRNA-r"
  },
  "language_info": {
   "codemirror_mode": "r",
   "file_extension": ".r",
   "mimetype": "text/x-r-source",
   "name": "R",
   "pygments_lexer": "r",
   "version": "4.2.3"
  }
 },
 "nbformat": 4,
 "nbformat_minor": 5
}
